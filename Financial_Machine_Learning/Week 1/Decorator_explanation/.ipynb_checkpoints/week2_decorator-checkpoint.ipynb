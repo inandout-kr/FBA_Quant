{
 "cells": [
  {
   "cell_type": "markdown",
   "metadata": {},
   "source": [
    "## Python Decorator\n",
    "플라스크, 셀러리와 같은 파이썬 오픈 소스 라이브러리들을 보면 @route, @task 등의 구문을 사용합니다.  \n",
    "대체 이 골뱅이 표기들은 무엇이고, 어떤 역할을 하길래 많이 사용되는 것일까요?  \n",
    "이 골뱅이들의 이름은 데코레이터입니다. 장식해주는 것? 이름만 들어서는 감이 잘 오지 않습니다.  \n",
    "먼저 예시를 한번 볼까요?  "
   ]
  },
  {
   "cell_type": "markdown",
   "metadata": {},
   "source": [
    "데코레이터 함수는 우선 장식을 해줄 func을 파라미터로 전달받습니다.  \n",
    "그리고 decorated라는 함수를 내부에 만들어주고 이를 리턴해줍니다.  \n",
    "decorated 함수 안에서는 전달받은 함수의 앞 뒤에 실행할 코드를 작성해줍니다"
   ]
  },
  {
   "cell_type": "code",
   "execution_count": 8,
   "metadata": {},
   "outputs": [],
   "source": [
    "def hello_decorator(func):\n",
    "    def decorated():\n",
    "        print('Hello!')\n",
    "        func()\n",
    "        print('Nice to meet you!')\n",
    "    return decorated"
   ]
  },
  {
   "cell_type": "code",
   "execution_count": 9,
   "metadata": {},
   "outputs": [
    {
     "name": "stdout",
     "output_type": "stream",
     "text": [
      "Hello!\n",
      "I'm Jeff\n",
      "Nice to meet you!\n"
     ]
    }
   ],
   "source": [
    "@hello_decorator\n",
    "def hello():\n",
    "    print(\"I'm Jeff\")\n",
    "hello()"
   ]
  },
  {
   "cell_type": "markdown",
   "metadata": {},
   "source": [
    "보셨나요? I'm Jeff 만 출력하는 함수가 데코레이터의 장식을 받아 앞 뒤로 문장을 출력합니다.  \n",
    "**즉, 데코레이터는 장식시킬 함수의 앞과 뒤에서 코드를 실행합니다.**  \n",
    "그렇다면 이런 데코레이터는 언제 사용하나요?  \n",
    "바로 여러 함수들이 부분적으로 중복되는 작업을 수행하는 경우, 코드의 재사용성을 높이기 위해 사용합니다.  \n",
    "예시를 통해서 알아보겠습니다."
   ]
  },
  {
   "cell_type": "code",
   "execution_count": 13,
   "metadata": {},
   "outputs": [],
   "source": [
    "import time\n",
    "\n",
    "def task1():\n",
    "    time.sleep(3)\n",
    "    print('hello! this is task 1')\n",
    "\n",
    "def task2():\n",
    "    time.sleep(5)\n",
    "    print('hello! this is task 2')\n",
    "\n",
    "def task3():\n",
    "    time.sleep(2)\n",
    "    print('hello! this is task 3')"
   ]
  },
  {
   "cell_type": "markdown",
   "metadata": {},
   "source": [
    "위 사례처럼 각기 다른 동작을 수행하며, 소요 시간이 다른 세 임의의 함수가 있다고 가정합니다.  \n",
    "이 때 개발자는 각각의 함수가 소요 시간이 얼마나 걸리는지 확인하고자 합니다.  \n",
    "그냥 단순히 코딩을 한다면 다음과 같이 짤 수 있습니다."
   ]
  },
  {
   "cell_type": "code",
   "execution_count": 11,
   "metadata": {},
   "outputs": [],
   "source": [
    "import time\n",
    "from datetime import datetime\n",
    "\n",
    "def task1():\n",
    "    start = datetime.now()\n",
    "    time.sleep(3)\n",
    "    print('hello! this is task 1')\n",
    "    end = datetime.now()\n",
    "    print('timecost', end - start)\n",
    "\n",
    "def task2():\n",
    "    start = datetime.now()\n",
    "    time.sleep(5)\n",
    "    print('hello! this is task 2')\n",
    "    end = datetime.now()\n",
    "    print('timecost', end - start)\n",
    "\n",
    "def task3():\n",
    "    start = datetime.now()\n",
    "    time.sleep(2)\n",
    "    print('hello! this is task 3')\n",
    "    end = datetime.now()\n",
    "    print('timecost', end - start)"
   ]
  },
  {
   "cell_type": "code",
   "execution_count": 12,
   "metadata": {},
   "outputs": [
    {
     "name": "stdout",
     "output_type": "stream",
     "text": [
      "hello! this is task 1\n",
      "timecost 0:00:03.002614\n",
      "hello! this is task 2\n",
      "timecost 0:00:05.000760\n",
      "hello! this is task 3\n",
      "timecost 0:00:02.002568\n"
     ]
    }
   ],
   "source": [
    "task1()\n",
    "task2()\n",
    "task3()"
   ]
  },
  {
   "cell_type": "markdown",
   "metadata": {},
   "source": [
    "수행하고자 하는 동작 앞, 뒤에 현재 시간을 재는 코드가 추가되었습니다.  \n",
    "그리고 수행을 완료한 이후 소요 시간을 출력해줍니다.  \n",
    "그 결과로 서로 다른 세 함수에 동일한 코드가 삽입되었습니다.  \n",
    "\n",
    "코드의 가독성 측면에서 이는 그다지 바람직하지 못합니다.  \n",
    "데코레이터를 사용하여서 이를 해결해보겠습니다.  "
   ]
  },
  {
   "cell_type": "code",
   "execution_count": 22,
   "metadata": {},
   "outputs": [],
   "source": [
    "from datetime import datetime\n",
    "\n",
    "def timecost(func):\n",
    "    def decorated():\n",
    "        start = datetime.now()\n",
    "        func()\n",
    "        end = datetime.now()\n",
    "        print('timecost', end - start)\n",
    "    return decorated"
   ]
  },
  {
   "cell_type": "code",
   "execution_count": 23,
   "metadata": {},
   "outputs": [],
   "source": [
    "import time\n",
    "\n",
    "@timecost\n",
    "def task1():\n",
    "    time.sleep(3)\n",
    "    print('hello! this is task 1')\n",
    "\n",
    "@timecost\n",
    "def task2():\n",
    "    time.sleep(5)\n",
    "    print('hello! this is task 2')\n",
    "\n",
    "@timecost\n",
    "def task3():\n",
    "    time.sleep(2)\n",
    "    print('hello! this is task 3')"
   ]
  },
  {
   "cell_type": "code",
   "execution_count": 24,
   "metadata": {},
   "outputs": [
    {
     "name": "stdout",
     "output_type": "stream",
     "text": [
      "hello! this is task 1\n",
      "timecost 0:00:03.001846\n",
      "hello! this is task 2\n",
      "timecost 0:00:05.000390\n",
      "hello! this is task 3\n",
      "timecost 0:00:02.003846\n"
     ]
    }
   ],
   "source": [
    "task1()\n",
    "task2()\n",
    "task3()"
   ]
  },
  {
   "cell_type": "markdown",
   "metadata": {},
   "source": [
    "어떤가요? 훨씬 깔끔해보이지 않나요?  \n",
    "그런데 어째 함수 안에 함수가 들어있는 모양새가 그렇게 보기 좋진 않습니다.  \n",
    "데코레이터를 함수가 아니라 클래스로 만들어보겠습니다."
   ]
  },
  {
   "cell_type": "code",
   "execution_count": 33,
   "metadata": {},
   "outputs": [],
   "source": [
    "from datetime import datetime\n",
    "\n",
    "class Timecost():\n",
    "    def __init__(self, func):\n",
    "        self.func = func\n",
    "        \n",
    "    def __call__(self):\n",
    "        start = datetime.now()\n",
    "        self.func()\n",
    "        end = datetime.now()\n",
    "        print('timecost', end - start)"
   ]
  },
  {
   "cell_type": "code",
   "execution_count": 34,
   "metadata": {},
   "outputs": [],
   "source": [
    "import time\n",
    "\n",
    "@Timecost\n",
    "def task1():\n",
    "    time.sleep(3)\n",
    "    print('hello! this is task 1')\n",
    "\n",
    "@Timecost\n",
    "def task2():\n",
    "    time.sleep(5)\n",
    "    print('hello! this is task 2')\n",
    "\n",
    "@Timecost\n",
    "def task3():\n",
    "    time.sleep(2)\n",
    "    print('hello! this is task 3')"
   ]
  },
  {
   "cell_type": "code",
   "execution_count": 35,
   "metadata": {},
   "outputs": [
    {
     "name": "stdout",
     "output_type": "stream",
     "text": [
      "hello! this is task 1\n",
      "timecost 0:00:03.004501\n",
      "hello! this is task 2\n",
      "timecost 0:00:05.004979\n",
      "hello! this is task 3\n",
      "timecost 0:00:02.001314\n"
     ]
    }
   ],
   "source": [
    "task1()\n",
    "task2()\n",
    "task3()"
   ]
  },
  {
   "cell_type": "markdown",
   "metadata": {},
   "source": [
    "이제 데코레이터가 무엇인지 감이 좀 오시나요?  \n",
    "조금 더 나아가서 실제 프레임워크들에서는 데코레이터를 어떻게 사용하는지 알아보겠습니다."
   ]
  },
  {
   "cell_type": "code",
   "execution_count": 27,
   "metadata": {},
   "outputs": [],
   "source": [
    "from flask import Flask\n",
    "\n",
    "app = Flask(__name__)\n",
    "\n",
    "\n",
    "@app.route('/')\n",
    "def hello_world():\n",
    "    return 'Hello World!'"
   ]
  },
  {
   "cell_type": "markdown",
   "metadata": {},
   "source": [
    "이는 파이썬 웹 어플리케이션 프레임워크인 플라스크에서 API를 작성하는 코드입니다.  \n",
    "사용자는 자신이 수행하고자하는 동작 (Hello World 리턴)을 입력한 뒤에 데코레이터를 달아줍니다.  \n",
    "플라스크 앱의 route 데코레이터 함수는 이제 / 라는 url로 http 요청이 들어오면 사용자가 작성한 함수를 실행합니다.  \n",
    "그리고 이를 http response로 만들어서 요청자에게 반환시켜줍니다.  "
   ]
  },
  {
   "cell_type": "code",
   "execution_count": 28,
   "metadata": {},
   "outputs": [],
   "source": [
    "from celery import Celery\n",
    "\n",
    "app = Celery('tasks', broker='pyamqp://guest@localhost//')\n",
    "\n",
    "@app.task\n",
    "def add(x, y):\n",
    "    return x + y"
   ]
  },
  {
   "cell_type": "markdown",
   "metadata": {},
   "source": [
    "다음은 파이썬 비동기 분산처리 프레임워크 셀러리에서 비동기 처리를 해주는 코드입니다. (구체적인 내용은 몰라도 상관없습니다.)  \n",
    "단순히 x와 y를 더해주는 함수에 app.task 함수를 데코레이터로 붙여줍니다.  \n",
    "그러면 브로커에 연결된 샐러리 앱이 브로커 내부의 큐에 테스크가 쌓이는 지를 확인하고  \n",
    "테스트가 있으면 가져와서 계산하고 다시 반환을 어쩌고 저쩌고 하는  \n",
    "듣기만해도 현기증 나는 작업들을 해주는 멋진 비동기 함수로 재탄생합니다.  \n",
    "\n",
    "**즉, 이러한 프레임워크의 강력한 기능들을 데코레이터를 통해 손쉽게 가져다 쓸 수 있는 것입니다.**"
   ]
  },
  {
   "cell_type": "markdown",
   "metadata": {},
   "source": [
    "자, 이제 데코레이터가 무엇이고 실제 개발에선 어떻게 사용되는지 아시겠나요?  \n",
    "끝으로 3줄 요약하자면 이렇습니다.  \n",
    "1. 데코레이터는 함수를 파라미터로 전달 받으며, 그 함수 앞 뒤에 다른 동작들을 수행해준다.\n",
    "2. 코드의 재사용성, 가독성을 높이기 위해 사용한다.\n",
    "3. 프레임워크를 사용할 때 많이 볼 수 있다.\n",
    "\n",
    "\n",
    "감사합니다!"
   ]
  },
  {
   "cell_type": "code",
   "execution_count": null,
   "metadata": {},
   "outputs": [],
   "source": []
  }
 ],
 "metadata": {
  "kernelspec": {
   "display_name": "Python 3",
   "language": "python",
   "name": "python3"
  },
  "language_info": {
   "codemirror_mode": {
    "name": "ipython",
    "version": 3
   },
   "file_extension": ".py",
   "mimetype": "text/x-python",
   "name": "python",
   "nbconvert_exporter": "python",
   "pygments_lexer": "ipython3",
   "version": "3.7.3"
  }
 },
 "nbformat": 4,
 "nbformat_minor": 2
}
