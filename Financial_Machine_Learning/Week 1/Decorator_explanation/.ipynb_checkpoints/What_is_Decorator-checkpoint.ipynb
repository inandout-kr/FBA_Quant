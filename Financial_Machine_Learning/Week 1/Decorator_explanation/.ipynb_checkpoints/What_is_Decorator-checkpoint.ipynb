{
 "cells": [
  {
   "cell_type": "markdown",
   "metadata": {},
   "source": [
    "## Python Decorator\n",
    " '@'의 의미\n",
    " -> 데코레이터\n",
    " \n",
    " 데코레이터란?\n",
    " -> 전달받은 함수의 앞 뒤에 코드를 실행해주는(장식해주는) 것"
   ]
  },
  {
   "cell_type": "markdown",
   "metadata": {},
   "source": [
    "데코레이터 함수는 우선 장식을 해줄 func을 파라미터로 전달받습니다.  \n",
    "그리고 decorated라는 함수를 내부에 만들어주고 이를 리턴해줍니다.  \n",
    "decorated 함수 안에서는 전달받은 함수의 앞 뒤에 실행할 코드를 작성해줍니다"
   ]
  },
  {
   "cell_type": "code",
   "execution_count": 26,
   "metadata": {},
   "outputs": [],
   "source": [
    "def hello_decorator(func):\n",
    "    def decorated():\n",
    "        print('Hello!')\n",
    "        func()\n",
    "        print('Nice to meet you!')\n",
    "    return decorated"
   ]
  },
  {
   "cell_type": "code",
   "execution_count": 29,
   "metadata": {},
   "outputs": [
    {
     "name": "stdout",
     "output_type": "stream",
     "text": [
      "Hello!\n",
      "I'm Giung\n",
      "Nice to meet you!\n"
     ]
    }
   ],
   "source": [
    "@hello_decorator\n",
    "def hello():\n",
    "    print(\"I'm Giung\")\n",
    "hello()"
   ]
  },
  {
   "cell_type": "markdown",
   "metadata": {},
   "source": [
    "이처럼 'I'm Giung'만 출력하는 'hello()' 함수가 데코레이터로 인해 앞 뒤에 문장이 추가된다.\n",
    "\n",
    "데코레이터는 언제 사용할까?\n",
    "-> 여러 함수가 중복되는 작업을 수행할 경우, 코드의 가독성 및 재사용성을 높이기 위해 사용한다.\n",
    "\n",
    "예시)"
   ]
  },
  {
   "cell_type": "code",
   "execution_count": 32,
   "metadata": {},
   "outputs": [],
   "source": [
    "import time\n",
    "\n",
    "def task1():\n",
    "    time.sleep(.5)\n",
    "    print('Task 1 has been completed.')\n",
    "\n",
    "def task2():\n",
    "    time.sleep(1)\n",
    "    print('Task 2 has been completed.')\n",
    "\n",
    "def task3():\n",
    "    time.sleep(1.5)\n",
    "    print('Task 3 has been completed.')"
   ]
  },
  {
   "cell_type": "markdown",
   "metadata": {},
   "source": [
    "위 사례처럼 각기 다른 동작을 수행하고, 소요 시간이 다른 세 임의의 함수가 있다고 가정.\n",
    "\n",
    "이 때 개발자는 각각의 함수가 실행되는데 소요되는 시간이 얼마나 걸리는지 확인하고자 한다.\n",
    "\n",
    "datetime 모듈을 사용해서 코드를 단순 반복한다면,"
   ]
  },
  {
   "cell_type": "code",
   "execution_count": 33,
   "metadata": {},
   "outputs": [],
   "source": [
    "import time\n",
    "from datetime import datetime\n",
    "\n",
    "def task1():\n",
    "    start = datetime.now()\n",
    "    time.sleep(.5)\n",
    "    print('Task 1 has been completed.')\n",
    "    end = datetime.now()\n",
    "    print('timecost', end - start)\n",
    "\n",
    "def task2():\n",
    "    start = datetime.now()\n",
    "    time.sleep(1)\n",
    "    print('Task 2 has been completed.')\n",
    "    end = datetime.now()\n",
    "    print('timecost', end - start)\n",
    "\n",
    "def task3():\n",
    "    start = datetime.now()\n",
    "    time.sleep(1.5)\n",
    "    print('Task 3 has been completed.')\n",
    "    end = datetime.now()\n",
    "    print('timecost', end - start)"
   ]
  },
  {
   "cell_type": "code",
   "execution_count": 34,
   "metadata": {},
   "outputs": [
    {
     "name": "stdout",
     "output_type": "stream",
     "text": [
      "Task 1 has been completed.\n",
      "timecost 0:00:00.507355\n",
      "Task 2 has been completed.\n",
      "timecost 0:00:01.001570\n",
      "Task 3 has been completed.\n",
      "timecost 0:00:01.501493\n"
     ]
    }
   ],
   "source": [
    "task1()\n",
    "task2()\n",
    "task3()"
   ]
  },
  {
   "cell_type": "markdown",
   "metadata": {},
   "source": [
    "수행하고자 하는 동작 앞, 뒤에 현재 시간을 재는 코드가 추가됨.\n",
    "그리고 수행을 완료한 이후 소요 시간을 출력.\n",
    "코드는 잘 실행되지만, 서로 다른 세 함수에 동일한 코드가 삽입되어 가독성이 좋지 않다.\n",
    "\n",
    "데코레이터를 사용하여서 이를 해결할 수 있다."
   ]
  },
  {
   "cell_type": "code",
   "execution_count": 16,
   "metadata": {},
   "outputs": [],
   "source": [
    "from datetime import datetime\n",
    "\n",
    "def timecost(func):\n",
    "    def decorated():\n",
    "        start = datetime.now()\n",
    "        func()\n",
    "        end = datetime.now()\n",
    "        print('timecost: ', end - start)\n",
    "    return decorated"
   ]
  },
  {
   "cell_type": "code",
   "execution_count": 35,
   "metadata": {},
   "outputs": [],
   "source": [
    "import time\n",
    "\n",
    "@timecost\n",
    "def task1():\n",
    "    time.sleep(.5)\n",
    "    print('Task 1 has been completed.')\n",
    "    \n",
    "@timecost\n",
    "def task2():\n",
    "    time.sleep(1)\n",
    "    print('Task 2 has been completed.')\n",
    "    \n",
    "@timecost\n",
    "def task3():\n",
    "    time.sleep(1.5)\n",
    "    print('Task 3 has been completed.')"
   ]
  },
  {
   "cell_type": "code",
   "execution_count": 36,
   "metadata": {},
   "outputs": [
    {
     "name": "stdout",
     "output_type": "stream",
     "text": [
      "Task 1 has been completed.\n",
      "timecost:  0:00:00.500623\n",
      "Task 2 has been completed.\n",
      "timecost:  0:00:01.009928\n",
      "Task 3 has been completed.\n",
      "timecost:  0:00:01.508568\n"
     ]
    }
   ],
   "source": [
    "task1()\n",
    "task2()\n",
    "task3()"
   ]
  },
  {
   "cell_type": "markdown",
   "metadata": {},
   "source": [
    "코드의 가독성이 훨씬 올라갔다.\n",
    "\n",
    "함수 안에 함수가 들어있는 모양이 보기 좋지 않다면,  \n",
    "데코레이터를 함수가 아니라 클래스로 만들 수도 있다."
   ]
  },
  {
   "cell_type": "code",
   "execution_count": 19,
   "metadata": {},
   "outputs": [],
   "source": [
    "from datetime import datetime\n",
    "\n",
    "class Timecost():\n",
    "    def __init__(self, func):\n",
    "        self.func = func\n",
    "        \n",
    "    def __call__(self):\n",
    "        start = datetime.now()\n",
    "        self.func()\n",
    "        end = datetime.now()\n",
    "        print('timecost', end - start)"
   ]
  },
  {
   "cell_type": "code",
   "execution_count": 37,
   "metadata": {},
   "outputs": [],
   "source": [
    "import time\n",
    "\n",
    "@Timecost\n",
    "def task1():\n",
    "    time.sleep(.5)\n",
    "    print('Task 1 has been completed.')\n",
    "\n",
    "@Timecost\n",
    "def task2():\n",
    "    time.sleep(1)\n",
    "    print('Task 2 has been completed.')\n",
    "\n",
    "@Timecost\n",
    "def task3():\n",
    "    time.sleep(1.5)\n",
    "    print('Task 3 has been completed.')"
   ]
  },
  {
   "cell_type": "code",
   "execution_count": 38,
   "metadata": {},
   "outputs": [
    {
     "name": "stdout",
     "output_type": "stream",
     "text": [
      "Task 1 has been completed.\n",
      "timecost 0:00:00.501778\n",
      "Task 2 has been completed.\n",
      "timecost 0:00:01.005172\n",
      "Task 3 has been completed.\n",
      "timecost 0:00:01.508368\n"
     ]
    }
   ],
   "source": [
    "task1()\n",
    "task2()\n",
    "task3()"
   ]
  },
  {
   "cell_type": "markdown",
   "metadata": {},
   "source": [
    "/"
   ]
  },
  {
   "cell_type": "markdown",
   "metadata": {},
   "source": [
    "/"
   ]
  },
  {
   "cell_type": "markdown",
   "metadata": {},
   "source": [
    "/"
   ]
  },
  {
   "cell_type": "markdown",
   "metadata": {},
   "source": [
    "실제 프레임워크(Ex. Flask)들에서는 데코레이터를 어떻게 사용할까?"
   ]
  },
  {
   "cell_type": "code",
   "execution_count": 27,
   "metadata": {},
   "outputs": [],
   "source": [
    "from flask import Flask\n",
    "\n",
    "app = Flask(__name__)\n",
    "\n",
    "\n",
    "@app.route('/')\n",
    "def hello_world():\n",
    "    return 'Hello World!'"
   ]
  },
  {
   "cell_type": "markdown",
   "metadata": {},
   "source": [
    "이는 파이썬 웹 어플리케이션 프레임워크인 플라스크에서 API를 작성하는 코드.  \n",
    "사용자는 자신이 수행하고자하는 동작 (Hello World 리턴)을 입력한 뒤에 데코레이터를 달아준다.  \n",
    "플라스크 앱의 route 데코레이터 함수는 이제 / 라는 url로 http 요청이 들어오면 사용자가 작성한 함수를 실행한다.  \n",
    "그리고 이를 http response로 만들어서 요청자에게 반환시켜준다.  "
   ]
  },
  {
   "cell_type": "code",
   "execution_count": 28,
   "metadata": {},
   "outputs": [],
   "source": [
    "from celery import Celery\n",
    "\n",
    "app = Celery('tasks', broker='pyamqp://guest@localhost//')\n",
    "\n",
    "@app.task\n",
    "def add(x, y):\n",
    "    return x + y"
   ]
  },
  {
   "cell_type": "markdown",
   "metadata": {},
   "source": [
    "다음은 파이썬 비동기 분산처리 프레임워크 셀러리에서 비동기 처리를 해주는 코드. (구체적인 내용은 몰라도 상관없다.)  \n",
    "단순히 x와 y를 더해주는 함수에 app.task 함수를 데코레이터로 붙여준다.  \n",
    "그러면 브로커에 연결된 샐러리 앱이 브로커 내부의 큐에 테스크가 쌓이는 지를 확인하고  \n",
    "테스트가 있으면 가져와서 계산하고 다시 반환을 어쩌고 저쩌고 하는  \n",
    "듣기만 해도 현기증 나는 작업들을 해주는 멋진 비동기 함수로 재탄생한다다.  \n",
    "\n",
    "**즉, 이러한 프레임워크의 강력한 기능들을 데코레이터를 통해 손쉽게 가져다 쓸 수 있는 것이다.**"
   ]
  },
  {
   "cell_type": "markdown",
   "metadata": {},
   "source": [
    "데코레이터가 무엇이고 실제 개발에선 어떻게 사용되는지 알아보았다.\n",
    "\n",
    "---3줄 요약---  \n",
    "1. 데코레이터는 함수를 파라미터로 전달 받으며, 그 함수 앞 뒤에 다른 동작들을 수행해준다.\n",
    "2. 코드의 재사용성, 가독성을 높이기 위해 사용한다.\n",
    "3. 프레임워크를 사용할 때 많이 볼 수 있다."
   ]
  },
  {
   "cell_type": "code",
   "execution_count": null,
   "metadata": {},
   "outputs": [],
   "source": []
  }
 ],
 "metadata": {
  "kernelspec": {
   "display_name": "Python 3",
   "language": "python",
   "name": "python3"
  },
  "language_info": {
   "codemirror_mode": {
    "name": "ipython",
    "version": 3
   },
   "file_extension": ".py",
   "mimetype": "text/x-python",
   "name": "python",
   "nbconvert_exporter": "python",
   "pygments_lexer": "ipython3",
   "version": "3.8.8"
  }
 },
 "nbformat": 4,
 "nbformat_minor": 4
}
