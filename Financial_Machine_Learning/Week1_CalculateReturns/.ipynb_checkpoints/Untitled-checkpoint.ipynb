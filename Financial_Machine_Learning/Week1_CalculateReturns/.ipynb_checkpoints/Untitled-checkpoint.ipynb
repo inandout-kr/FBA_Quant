{
 "cells": [
  {
   "cell_type": "code",
   "execution_count": 2,
   "id": "b7c279b1-590f-4d63-b35d-f4cbad1a7d01",
   "metadata": {},
   "outputs": [
    {
     "ename": "ModuleNotFoundError",
     "evalue": "No module named 'pandas_datareader'",
     "output_type": "error",
     "traceback": [
      "\u001b[1;31m---------------------------------------------------------------------------\u001b[0m",
      "\u001b[1;31mModuleNotFoundError\u001b[0m                       Traceback (most recent call last)",
      "\u001b[1;32m<ipython-input-2-b28c8575ec87>\u001b[0m in \u001b[0;36m<module>\u001b[1;34m\u001b[0m\n\u001b[0;32m      1\u001b[0m \u001b[1;32mimport\u001b[0m \u001b[0mpandas\u001b[0m\u001b[1;33m\u001b[0m\u001b[1;33m\u001b[0m\u001b[0m\n\u001b[1;32m----> 2\u001b[1;33m \u001b[1;32mimport\u001b[0m \u001b[0mpandas_datareader\u001b[0m\u001b[1;33m.\u001b[0m\u001b[0mdata\u001b[0m \u001b[1;32mas\u001b[0m \u001b[0mpdr\u001b[0m\u001b[1;33m\u001b[0m\u001b[1;33m\u001b[0m\u001b[0m\n\u001b[0m\u001b[0;32m      3\u001b[0m \u001b[1;32mimport\u001b[0m \u001b[0mdatetime\u001b[0m \u001b[1;32mas\u001b[0m \u001b[0mdt\u001b[0m\u001b[1;33m\u001b[0m\u001b[1;33m\u001b[0m\u001b[0m\n\u001b[0;32m      4\u001b[0m \u001b[1;33m\u001b[0m\u001b[0m\n\u001b[0;32m      5\u001b[0m \u001b[0mstart\u001b[0m \u001b[1;33m=\u001b[0m \u001b[0mdt\u001b[0m\u001b[1;33m.\u001b[0m\u001b[0mdatetime\u001b[0m\u001b[1;33m(\u001b[0m\u001b[1;36m2021\u001b[0m\u001b[1;33m,\u001b[0m\u001b[1;36m1\u001b[0m\u001b[1;33m,\u001b[0m\u001b[1;36m29\u001b[0m\u001b[1;33m)\u001b[0m\u001b[1;33m\u001b[0m\u001b[1;33m\u001b[0m\u001b[0m\n",
      "\u001b[1;31mModuleNotFoundError\u001b[0m: No module named 'pandas_datareader'"
     ]
    }
   ],
   "source": [
    "import pandas\n",
    "import pandas_datareader.data as pdr\n",
    "import datetime as dt\n",
    "\n",
    "start = dt.datetime(2021,1,29)\n",
    "end = dt.datetime(2021,2,18)\n",
    "df = pdr.DataReader('BTC-USD','yahoo',start,end)"
   ]
  },
  {
   "cell_type": "code",
   "execution_count": null,
   "id": "866a2ba6-4156-472a-8e13-30743ce6a921",
   "metadata": {},
   "outputs": [],
   "source": []
  },
  {
   "cell_type": "code",
   "execution_count": 21,
   "id": "5e511120-179b-40f3-89fa-6b9d3e93e15f",
   "metadata": {},
   "outputs": [],
   "source": [
    "from datetime import datetime\n",
    "\n",
    "def runtime(func):\n",
    "    def decorated():\n",
    "        start = datetime.now()\n",
    "        func()\n",
    "        end = datetime.now()\n",
    "        print('코드 실행 시간: {0}'.format(start-end))\n",
    "    return decorated"
   ]
  },
  {
   "cell_type": "code",
   "execution_count": 24,
   "id": "aa939337-fb83-4fee-99cb-dd9d94dbe0fe",
   "metadata": {},
   "outputs": [],
   "source": [
    "@runtime\n",
    "def task1():\n",
    "    tr=0\n",
    "    while tr < 10 :\n",
    "        tr = tr + 1\n",
    "        print(\"나무를 {0}번 찍었습니다\".format(tr))\n",
    "        if tr == 10:\n",
    "            print(\"나무 넘어갑니다\")"
   ]
  },
  {
   "cell_type": "code",
   "execution_count": 95,
   "id": "fe20d7c9-cec9-49d7-a8f4-5e0f6e31b0d5",
   "metadata": {},
   "outputs": [
    {
     "name": "stdout",
     "output_type": "stream",
     "text": [
      "나무를 1번 찍었습니다\n",
      "나무를 2번 찍었습니다\n",
      "나무를 3번 찍었습니다\n",
      "나무를 4번 찍었습니다\n",
      "나무를 5번 찍었습니다\n",
      "나무를 6번 찍었습니다\n",
      "나무를 7번 찍었습니다\n",
      "나무를 8번 찍었습니다\n",
      "나무를 9번 찍었습니다\n",
      "나무를 10번 찍었습니다\n",
      "나무 넘어갑니다\n",
      "코드 실행 시간: 0:00:00\n"
     ]
    }
   ],
   "source": [
    "task1()"
   ]
  },
  {
   "cell_type": "code",
   "execution_count": null,
   "id": "a22ea118-05df-45b3-9b3a-c2f2e432b9cd",
   "metadata": {},
   "outputs": [],
   "source": [
    "n = int(input())\n",
    "\n",
    "data = list(map(int, input().split()))\n",
    "\n",
    "data.sort(reverse = True)\n",
    "print(data)"
   ]
  },
  {
   "cell_type": "code",
   "execution_count": 102,
   "id": "574cbc78-3adf-4f79-a9c2-5b38ff4722dc",
   "metadata": {},
   "outputs": [
    {
     "name": "stdout",
     "output_type": "stream",
     "text": [
      "1 2 3 4\n"
     ]
    }
   ],
   "source": [
    "print(1,2,3,4)"
   ]
  },
  {
   "cell_type": "code",
   "execution_count": 103,
   "id": "13277b09-bb7f-46fc-b4f1-2f71c03d2965",
   "metadata": {},
   "outputs": [
    {
     "name": "stdout",
     "output_type": "stream",
     "text": [
      "10\n"
     ]
    }
   ],
   "source": [
    "print(1+2+3+4)"
   ]
  },
  {
   "cell_type": "code",
   "execution_count": 104,
   "id": "e9b6dae0-e15c-4efa-97d1-0ef4f10f45af",
   "metadata": {},
   "outputs": [
    {
     "name": "stdout",
     "output_type": "stream",
     "text": [
      "1 2 3 4\n"
     ]
    }
   ],
   "source": [
    "print('1','2','3','4')"
   ]
  },
  {
   "cell_type": "code",
   "execution_count": 105,
   "id": "0b45836a-4cc1-40cb-bacb-967edcfe386e",
   "metadata": {},
   "outputs": [
    {
     "name": "stdout",
     "output_type": "stream",
     "text": [
      "1234\n"
     ]
    }
   ],
   "source": [
    "print('1'+'2'+'3'+'4')"
   ]
  },
  {
   "cell_type": "code",
   "execution_count": 108,
   "id": "d3059e70-7bfa-4274-9b7a-b20109565e83",
   "metadata": {},
   "outputs": [
    {
     "name": "stdout",
     "output_type": "stream",
     "text": [
      "비밀번호는 1234\n"
     ]
    }
   ],
   "source": [
    "a=1234\n",
    "print('비밀번호는 {0}'.format(a))"
   ]
  },
  {
   "cell_type": "code",
   "execution_count": null,
   "id": "57a0e553-df74-4e86-8128-1b62be8a710f",
   "metadata": {},
   "outputs": [],
   "source": []
  }
 ],
 "metadata": {
  "kernelspec": {
   "display_name": "Python 3",
   "language": "python",
   "name": "python3"
  },
  "language_info": {
   "codemirror_mode": {
    "name": "ipython",
    "version": 3
   },
   "file_extension": ".py",
   "mimetype": "text/x-python",
   "name": "python",
   "nbconvert_exporter": "python",
   "pygments_lexer": "ipython3",
   "version": "3.8.8"
  }
 },
 "nbformat": 4,
 "nbformat_minor": 5
}
