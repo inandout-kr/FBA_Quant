{
 "cells": [
  {
   "cell_type": "markdown",
   "id": "1f9e00c4-648c-4bb4-be7d-63abc8ef8e1b",
   "metadata": {},
   "source": [
    "# 백준 5585번: 거스름돈 파이썬 풀이 (BOJ 5585)\n",
    "##### link: https://www.acmicpc.net/problem/5585"
   ]
  },
  {
   "cell_type": "code",
   "execution_count": 6,
   "id": "f6d89d87-1dfc-4ce9-945d-6d62085349e7",
   "metadata": {},
   "outputs": [
    {
     "name": "stdin",
     "output_type": "stream",
     "text": [
      " 559\n"
     ]
    },
    {
     "name": "stdout",
     "output_type": "stream",
     "text": [
      "0 9\n"
     ]
    }
   ],
   "source": [
    "change = 1000 - int(input())\n",
    "yen = [500, 100, 50, 10, 5, 1]\n",
    "cnt = 0\n",
    "for y in yen:\n",
    "    if change < y:\n",
    "        continue\n",
    "    cnt = cnt + change//y\n",
    "    change %= y\n",
    "print(change, cnt)"
   ]
  },
  {
   "cell_type": "code",
   "execution_count": null,
   "id": "4592afc9-ba33-4767-b9ce-ece91962efaf",
   "metadata": {},
   "outputs": [],
   "source": []
  }
 ],
 "metadata": {
  "kernelspec": {
   "display_name": "Python 3",
   "language": "python",
   "name": "python3"
  },
  "language_info": {
   "codemirror_mode": {
    "name": "ipython",
    "version": 3
   },
   "file_extension": ".py",
   "mimetype": "text/x-python",
   "name": "python",
   "nbconvert_exporter": "python",
   "pygments_lexer": "ipython3",
   "version": "3.8.8"
  }
 },
 "nbformat": 4,
 "nbformat_minor": 5
}
